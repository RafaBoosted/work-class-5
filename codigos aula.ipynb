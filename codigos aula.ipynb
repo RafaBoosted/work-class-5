{
 "cells": [
  {
   "cell_type": "code",
   "execution_count": null,
   "metadata": {},
   "outputs": [],
   "source": [
    "# criar uma lista e invocar um valor em determinada posição\n",
    "\n",
    "dias= [3, 1, 10]\n",
    "print(dias[0]) # 3\n",
    "print(dias[1]) # 1\n",
    "print(dias[2]) # 10"
   ]
  },
  {
   "cell_type": "code",
   "execution_count": null,
   "metadata": {},
   "outputs": [],
   "source": [
    "# criar uma lista e invocar um valor em determinada posição modificando esse valor\n",
    "Z= [3, 8, 9]\n",
    "Z[0] = 7\n",
    "Z"
   ]
  },
  {
   "cell_type": "code",
   "execution_count": 1,
   "metadata": {},
   "outputs": [
    {
     "name": "stdout",
     "output_type": "stream",
     "text": [
      "True\n",
      "True\n",
      "[12, 7, 5, 8, 9]\n",
      "[12, 7, 5, 8, 9]\n"
     ]
    }
   ],
   "source": [
    "V= [6, 7, 5, 8, 9]\n",
    "L= V             # a ausência do : faz com que ambas as variáveis sejam a mesma coisa\n",
    "print(V == L)\n",
    "print(V is L)\n",
    "V[0] = 12\n",
    "print(V)\n",
    "print(L)"
   ]
  },
  {
   "cell_type": "code",
   "execution_count": null,
   "metadata": {},
   "outputs": [],
   "source": [
    "a= [81, 82, 83]\n",
    "b= a[:]       # o : copia apenas o conteúdo, mas são variáveis diferentes\n",
    "print(a == b)\n",
    "print(a is b)\n",
    "b[0] = 5\n",
    "print(a)\n",
    "print(b)"
   ]
  },
  {
   "cell_type": "code",
   "execution_count": null,
   "metadata": {},
   "outputs": [],
   "source": [
    "uma_lista = ['a', 'b', 'c', 'd', 'e', 'f']\n",
    "print(uma_lista[1:3])\n",
    "print(uma_lista[:4])\n",
    "print(uma_lista[3:])\n",
    "print(uma_lista[:]) "
   ]
  },
  {
   "cell_type": "code",
   "execution_count": 29,
   "metadata": {},
   "outputs": [
    {
     "name": "stdout",
     "output_type": "stream",
     "text": [
      "[76, 92.3, 'oi', 'True', 4, 76, 'pitomba', 76]\n",
      "[76, 92.3, 'oi', 'Cibele', 'True', 4, 76, 'pitomba', 76]\n",
      "[99, 76, 92.3, 'oi', 'Cibele', 'True', 4, 76, 'pitomba', 76]\n",
      "'oi' está no índice 3\n",
      "[99, 76, 92.3, 'oi', 'Cibele', 4, 76, 'pitomba', 76]\n"
     ]
    }
   ],
   "source": [
    "minhaLista= [76, 92.3, \"oi\", \"True\", 4, 76]\n",
    "fakeLista= [\"pitomba\", 76]\n",
    "novaLista = minhaLista + fakeLista\n",
    "print(novaLista)\n",
    "minhaLista2 = novaLista[:4]\n",
    "minhaLista2[3] = \"Cibele\"\n",
    "minhaLista3 = [\"True\", 4, 76, \"pitomba\", 76]\n",
    "novaLista2 = minhaLista2 + minhaLista3\n",
    "print(novaLista2)\n",
    "novaLista3 = novaLista2[:0]\n",
    "novaLista4 = [99]\n",
    "novaLista5 = novaLista4 + novaLista2\n",
    "print(novaLista5)\n",
    "if novaLista5[0] == \"oi\" :\n",
    "    print(\"'oi' está no índice 0\")\n",
    "elif novaLista5[1] == \"oi\":\n",
    "    print(\"'oi' está no índice 1\")\n",
    "elif novaLista5[2] == \"oi\":\n",
    "    print(\"'oi' está no índice 2\")\n",
    "elif novaLista5[3] == \"oi\":\n",
    "    print(\"'oi' está no índice 3\")\n",
    "elif novaLista5[4] == \"oi\":\n",
    "    print(\"'oi' está no índice 4\")\n",
    "elif novaLista5[5] == \"oi\":\n",
    "    print(\"'oi' está no índice 2\")\n",
    "elif novaLista5[6] == \"oi\":\n",
    "    print(\"'oi' está no índice 2\")\n",
    "elif novaLista5[7] == \"oi\":\n",
    "    print(\"'oi' está no índice 2\")\n",
    "elif novaLista5[8] == \"oi\":\n",
    "    print(\"'oi' está no índice 2\")\n",
    "elif novaLista5[9] == \"oi\":\n",
    "    print(\"'oi' está no índice 2\")\n",
    "\n",
    "novaLista5 = novaLista5[:5] + novaLista5[6:]\n",
    "print(novaLista5)\n",
    "\n"
   ]
  },
  {
   "cell_type": "code",
   "execution_count": null,
   "metadata": {},
   "outputs": [],
   "source": []
  }
 ],
 "metadata": {
  "kernelspec": {
   "display_name": "Python 3",
   "language": "python",
   "name": "python3"
  },
  "language_info": {
   "codemirror_mode": {
    "name": "ipython",
    "version": 3
   },
   "file_extension": ".py",
   "mimetype": "text/x-python",
   "name": "python",
   "nbconvert_exporter": "python",
   "pygments_lexer": "ipython3",
   "version": "3.11.9"
  }
 },
 "nbformat": 4,
 "nbformat_minor": 2
}
